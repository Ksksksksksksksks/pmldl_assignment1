{
 "cells": [
  {
   "metadata": {},
   "cell_type": "markdown",
   "source": "# Preparing Go-Emotions Dataset",
   "id": "5afcf67f3b812e9a"
  },
  {
   "metadata": {},
   "cell_type": "markdown",
   "source": "I will use dataset with reddit comments and corresponding emotions from google - https://github.com/google-research/google-research/tree/master/goemotions",
   "id": "484fa58afcf1f6f8"
  },
  {
   "metadata": {},
   "cell_type": "markdown",
   "source": "### Imports",
   "id": "7279adcc3202a474"
  },
  {
   "metadata": {
    "ExecuteTime": {
     "end_time": "2025-09-18T17:43:34.917276Z",
     "start_time": "2025-09-18T17:43:07.345100Z"
    }
   },
   "cell_type": "code",
   "source": "!pip install iterative-stratification\n",
   "id": "e0f527210a901218",
   "outputs": [
    {
     "name": "stdout",
     "output_type": "stream",
     "text": [
      "Collecting iterative-stratification\n",
      "  Downloading iterative_stratification-0.1.9-py3-none-any.whl.metadata (1.3 kB)\n",
      "Requirement already satisfied: numpy in c:\\users\\user\\anaconda3\\lib\\site-packages (from iterative-stratification) (1.26.4)\n",
      "Requirement already satisfied: scipy in c:\\users\\user\\anaconda3\\lib\\site-packages (from iterative-stratification) (1.13.1)\n",
      "Requirement already satisfied: scikit-learn in c:\\users\\user\\anaconda3\\lib\\site-packages (from iterative-stratification) (1.5.1)\n",
      "Requirement already satisfied: joblib>=1.2.0 in c:\\users\\user\\anaconda3\\lib\\site-packages (from scikit-learn->iterative-stratification) (1.4.2)\n",
      "Requirement already satisfied: threadpoolctl>=3.1.0 in c:\\users\\user\\anaconda3\\lib\\site-packages (from scikit-learn->iterative-stratification) (3.5.0)\n",
      "Downloading iterative_stratification-0.1.9-py3-none-any.whl (8.5 kB)\n",
      "Installing collected packages: iterative-stratification\n",
      "Successfully installed iterative-stratification-0.1.9\n"
     ]
    },
    {
     "name": "stderr",
     "output_type": "stream",
     "text": [
      "\n",
      "[notice] A new release of pip is available: 25.0.1 -> 25.2\n",
      "[notice] To update, run: python.exe -m pip install --upgrade pip\n"
     ]
    }
   ],
   "execution_count": 53
  },
  {
   "cell_type": "code",
   "id": "initial_id",
   "metadata": {
    "collapsed": true,
    "ExecuteTime": {
     "end_time": "2025-09-18T17:43:40.078916Z",
     "start_time": "2025-09-18T17:43:39.385260Z"
    }
   },
   "source": [
    "import os\n",
    "import pandas as pd\n",
    "from sklearn.model_selection import train_test_split\n",
    "import glob\n",
    "import requests\n",
    "from iterstrat.ml_stratifiers import MultilabelStratifiedKFold"
   ],
   "outputs": [],
   "execution_count": 54
  },
  {
   "metadata": {},
   "cell_type": "markdown",
   "source": "### Create folders",
   "id": "b3ada8af5839f9d1"
  },
  {
   "metadata": {
    "ExecuteTime": {
     "end_time": "2025-09-18T16:50:37.436069Z",
     "start_time": "2025-09-18T16:50:37.374074Z"
    }
   },
   "cell_type": "code",
   "source": [
    "CURRENT_DIR = os.getcwd()\n",
    "\n",
    "PROJECT_ROOT = os.path.abspath(os.path.join(CURRENT_DIR, \"..\", \"..\"))\n",
    "\n",
    "FULL_DATA_DIR = os.path.join(PROJECT_ROOT, \"data\", \"full_dataset\")\n",
    "PROCESSED_DIR = os.path.join(PROJECT_ROOT, \"data\", \"processed\")\n",
    "\n",
    "os.makedirs(FULL_DATA_DIR, exist_ok=True)\n",
    "os.makedirs(PROCESSED_DIR, exist_ok=True)\n",
    "\n",
    "print(\"FULL_DATA_DIR =\", FULL_DATA_DIR)\n",
    "print(\"PROCESSED_DIR =\", PROCESSED_DIR)"
   ],
   "id": "a22cf82f1334ae80",
   "outputs": [
    {
     "name": "stdout",
     "output_type": "stream",
     "text": [
      "FULL_DATA_DIR = C:\\Users\\user\\Documents\\f25\\pmldl\\pmldl_assignment1\\data\\full_dataset\n",
      "PROCESSED_DIR = C:\\Users\\user\\Documents\\f25\\pmldl\\pmldl_assignment1\\data\\processed\n"
     ]
    }
   ],
   "execution_count": 6
  },
  {
   "metadata": {},
   "cell_type": "markdown",
   "source": "### Download datasets",
   "id": "577cd83e55e59398"
  },
  {
   "metadata": {
    "ExecuteTime": {
     "end_time": "2025-09-18T16:55:09.363377Z",
     "start_time": "2025-09-18T16:54:13.623130Z"
    }
   },
   "cell_type": "code",
   "source": [
    "urls = [\n",
    "    \"https://storage.googleapis.com/gresearch/goemotions/data/full_dataset/goemotions_1.csv\",\n",
    "    \"https://storage.googleapis.com/gresearch/goemotions/data/full_dataset/goemotions_2.csv\",\n",
    "    \"https://storage.googleapis.com/gresearch/goemotions/data/full_dataset/goemotions_3.csv\"\n",
    "]\n",
    "\n",
    "for url in urls:\n",
    "    filename = os.path.join(FULL_DATA_DIR, url.split(\"/\")[-1])\n",
    "    if not os.path.exists(filename):\n",
    "        print(f\"Downloading {filename} ...\")\n",
    "        r = requests.get(url)\n",
    "        with open(filename, \"wb\") as f:\n",
    "            f.write(r.content)\n",
    "    else:\n",
    "        print(f\"{filename} already downloaded\")"
   ],
   "id": "3ac08698c65aa2c5",
   "outputs": [
    {
     "name": "stdout",
     "output_type": "stream",
     "text": [
      "Downloading C:\\Users\\user\\Documents\\f25\\pmldl\\pmldl_assignment1\\data\\full_dataset\\goemotions_1.csv ...\n",
      "Downloading C:\\Users\\user\\Documents\\f25\\pmldl\\pmldl_assignment1\\data\\full_dataset\\goemotions_2.csv ...\n",
      "Downloading C:\\Users\\user\\Documents\\f25\\pmldl\\pmldl_assignment1\\data\\full_dataset\\goemotions_3.csv ...\n"
     ]
    }
   ],
   "execution_count": 9
  },
  {
   "metadata": {},
   "cell_type": "markdown",
   "source": "### Read, see & concat",
   "id": "b5ead9285201aa31"
  },
  {
   "metadata": {
    "ExecuteTime": {
     "end_time": "2025-09-18T16:58:18.144833Z",
     "start_time": "2025-09-18T16:58:13.358667Z"
    }
   },
   "cell_type": "code",
   "source": [
    "csv_files = [\n",
    "    os.path.join(FULL_DATA_DIR, f\"goemotions_{i}.csv\") for i in range(1, 4)\n",
    "]\n",
    "\n",
    "dfs = [pd.read_csv(f) for f in csv_files]\n",
    "df = pd.concat(dfs, ignore_index=True)\n"
   ],
   "id": "4113131cadae56f8",
   "outputs": [],
   "execution_count": 10
  },
  {
   "metadata": {
    "ExecuteTime": {
     "end_time": "2025-09-18T16:58:42.701715Z",
     "start_time": "2025-09-18T16:58:42.554752Z"
    }
   },
   "cell_type": "code",
   "source": "df.head()",
   "id": "154dc23cf153ac22",
   "outputs": [
    {
     "data": {
      "text/plain": [
       "                                                text       id  \\\n",
       "0                                    That game hurt.  eew5j0j   \n",
       "1   >sexuality shouldn’t be a grouping category I...  eemcysk   \n",
       "2     You do right, if you don't care then fuck 'em!  ed2mah1   \n",
       "3                                 Man I love reddit.  eeibobj   \n",
       "4  [NAME] was nowhere near them, he was by the Fa...  eda6yn6   \n",
       "\n",
       "                author            subreddit    link_id   parent_id  \\\n",
       "0                Brdd9                  nrl  t3_ajis4z  t1_eew18eq   \n",
       "1          TheGreen888     unpopularopinion  t3_ai4q37   t3_ai4q37   \n",
       "2             Labalool          confessions  t3_abru74  t1_ed2m7g7   \n",
       "3        MrsRobertshaw             facepalm  t3_ahulml   t3_ahulml   \n",
       "4  American_Fascist713  starwarsspeculation  t3_ackt2f  t1_eda65q2   \n",
       "\n",
       "    created_utc  rater_id  example_very_unclear  admiration  ...  love  \\\n",
       "0  1.548381e+09         1                 False           0  ...     0   \n",
       "1  1.548084e+09        37                  True           0  ...     0   \n",
       "2  1.546428e+09        37                 False           0  ...     0   \n",
       "3  1.547965e+09        18                 False           0  ...     1   \n",
       "4  1.546669e+09         2                 False           0  ...     0   \n",
       "\n",
       "   nervousness  optimism  pride  realization  relief  remorse  sadness  \\\n",
       "0            0         0      0            0       0        0        1   \n",
       "1            0         0      0            0       0        0        0   \n",
       "2            0         0      0            0       0        0        0   \n",
       "3            0         0      0            0       0        0        0   \n",
       "4            0         0      0            0       0        0        0   \n",
       "\n",
       "   surprise  neutral  \n",
       "0         0        0  \n",
       "1         0        0  \n",
       "2         0        1  \n",
       "3         0        0  \n",
       "4         0        1  \n",
       "\n",
       "[5 rows x 37 columns]"
      ],
      "text/html": [
       "<div>\n",
       "<style scoped>\n",
       "    .dataframe tbody tr th:only-of-type {\n",
       "        vertical-align: middle;\n",
       "    }\n",
       "\n",
       "    .dataframe tbody tr th {\n",
       "        vertical-align: top;\n",
       "    }\n",
       "\n",
       "    .dataframe thead th {\n",
       "        text-align: right;\n",
       "    }\n",
       "</style>\n",
       "<table border=\"1\" class=\"dataframe\">\n",
       "  <thead>\n",
       "    <tr style=\"text-align: right;\">\n",
       "      <th></th>\n",
       "      <th>text</th>\n",
       "      <th>id</th>\n",
       "      <th>author</th>\n",
       "      <th>subreddit</th>\n",
       "      <th>link_id</th>\n",
       "      <th>parent_id</th>\n",
       "      <th>created_utc</th>\n",
       "      <th>rater_id</th>\n",
       "      <th>example_very_unclear</th>\n",
       "      <th>admiration</th>\n",
       "      <th>...</th>\n",
       "      <th>love</th>\n",
       "      <th>nervousness</th>\n",
       "      <th>optimism</th>\n",
       "      <th>pride</th>\n",
       "      <th>realization</th>\n",
       "      <th>relief</th>\n",
       "      <th>remorse</th>\n",
       "      <th>sadness</th>\n",
       "      <th>surprise</th>\n",
       "      <th>neutral</th>\n",
       "    </tr>\n",
       "  </thead>\n",
       "  <tbody>\n",
       "    <tr>\n",
       "      <th>0</th>\n",
       "      <td>That game hurt.</td>\n",
       "      <td>eew5j0j</td>\n",
       "      <td>Brdd9</td>\n",
       "      <td>nrl</td>\n",
       "      <td>t3_ajis4z</td>\n",
       "      <td>t1_eew18eq</td>\n",
       "      <td>1.548381e+09</td>\n",
       "      <td>1</td>\n",
       "      <td>False</td>\n",
       "      <td>0</td>\n",
       "      <td>...</td>\n",
       "      <td>0</td>\n",
       "      <td>0</td>\n",
       "      <td>0</td>\n",
       "      <td>0</td>\n",
       "      <td>0</td>\n",
       "      <td>0</td>\n",
       "      <td>0</td>\n",
       "      <td>1</td>\n",
       "      <td>0</td>\n",
       "      <td>0</td>\n",
       "    </tr>\n",
       "    <tr>\n",
       "      <th>1</th>\n",
       "      <td>&gt;sexuality shouldn’t be a grouping category I...</td>\n",
       "      <td>eemcysk</td>\n",
       "      <td>TheGreen888</td>\n",
       "      <td>unpopularopinion</td>\n",
       "      <td>t3_ai4q37</td>\n",
       "      <td>t3_ai4q37</td>\n",
       "      <td>1.548084e+09</td>\n",
       "      <td>37</td>\n",
       "      <td>True</td>\n",
       "      <td>0</td>\n",
       "      <td>...</td>\n",
       "      <td>0</td>\n",
       "      <td>0</td>\n",
       "      <td>0</td>\n",
       "      <td>0</td>\n",
       "      <td>0</td>\n",
       "      <td>0</td>\n",
       "      <td>0</td>\n",
       "      <td>0</td>\n",
       "      <td>0</td>\n",
       "      <td>0</td>\n",
       "    </tr>\n",
       "    <tr>\n",
       "      <th>2</th>\n",
       "      <td>You do right, if you don't care then fuck 'em!</td>\n",
       "      <td>ed2mah1</td>\n",
       "      <td>Labalool</td>\n",
       "      <td>confessions</td>\n",
       "      <td>t3_abru74</td>\n",
       "      <td>t1_ed2m7g7</td>\n",
       "      <td>1.546428e+09</td>\n",
       "      <td>37</td>\n",
       "      <td>False</td>\n",
       "      <td>0</td>\n",
       "      <td>...</td>\n",
       "      <td>0</td>\n",
       "      <td>0</td>\n",
       "      <td>0</td>\n",
       "      <td>0</td>\n",
       "      <td>0</td>\n",
       "      <td>0</td>\n",
       "      <td>0</td>\n",
       "      <td>0</td>\n",
       "      <td>0</td>\n",
       "      <td>1</td>\n",
       "    </tr>\n",
       "    <tr>\n",
       "      <th>3</th>\n",
       "      <td>Man I love reddit.</td>\n",
       "      <td>eeibobj</td>\n",
       "      <td>MrsRobertshaw</td>\n",
       "      <td>facepalm</td>\n",
       "      <td>t3_ahulml</td>\n",
       "      <td>t3_ahulml</td>\n",
       "      <td>1.547965e+09</td>\n",
       "      <td>18</td>\n",
       "      <td>False</td>\n",
       "      <td>0</td>\n",
       "      <td>...</td>\n",
       "      <td>1</td>\n",
       "      <td>0</td>\n",
       "      <td>0</td>\n",
       "      <td>0</td>\n",
       "      <td>0</td>\n",
       "      <td>0</td>\n",
       "      <td>0</td>\n",
       "      <td>0</td>\n",
       "      <td>0</td>\n",
       "      <td>0</td>\n",
       "    </tr>\n",
       "    <tr>\n",
       "      <th>4</th>\n",
       "      <td>[NAME] was nowhere near them, he was by the Fa...</td>\n",
       "      <td>eda6yn6</td>\n",
       "      <td>American_Fascist713</td>\n",
       "      <td>starwarsspeculation</td>\n",
       "      <td>t3_ackt2f</td>\n",
       "      <td>t1_eda65q2</td>\n",
       "      <td>1.546669e+09</td>\n",
       "      <td>2</td>\n",
       "      <td>False</td>\n",
       "      <td>0</td>\n",
       "      <td>...</td>\n",
       "      <td>0</td>\n",
       "      <td>0</td>\n",
       "      <td>0</td>\n",
       "      <td>0</td>\n",
       "      <td>0</td>\n",
       "      <td>0</td>\n",
       "      <td>0</td>\n",
       "      <td>0</td>\n",
       "      <td>0</td>\n",
       "      <td>1</td>\n",
       "    </tr>\n",
       "  </tbody>\n",
       "</table>\n",
       "<p>5 rows × 37 columns</p>\n",
       "</div>"
      ]
     },
     "execution_count": 12,
     "metadata": {},
     "output_type": "execute_result"
    }
   ],
   "execution_count": 12
  },
  {
   "metadata": {
    "ExecuteTime": {
     "end_time": "2025-09-18T16:59:18.770112Z",
     "start_time": "2025-09-18T16:59:18.694624Z"
    }
   },
   "cell_type": "code",
   "source": "df.columns",
   "id": "7c95a1ceff966927",
   "outputs": [
    {
     "data": {
      "text/plain": [
       "Index(['text', 'id', 'author', 'subreddit', 'link_id', 'parent_id',\n",
       "       'created_utc', 'rater_id', 'example_very_unclear', 'admiration',\n",
       "       'amusement', 'anger', 'annoyance', 'approval', 'caring', 'confusion',\n",
       "       'curiosity', 'desire', 'disappointment', 'disapproval', 'disgust',\n",
       "       'embarrassment', 'excitement', 'fear', 'gratitude', 'grief', 'joy',\n",
       "       'love', 'nervousness', 'optimism', 'pride', 'realization', 'relief',\n",
       "       'remorse', 'sadness', 'surprise', 'neutral'],\n",
       "      dtype='object')"
      ]
     },
     "execution_count": 17,
     "metadata": {},
     "output_type": "execute_result"
    }
   ],
   "execution_count": 17
  },
  {
   "metadata": {},
   "cell_type": "markdown",
   "source": "#### Filter only clear emotions",
   "id": "7672702a1afacbd3"
  },
  {
   "metadata": {
    "ExecuteTime": {
     "end_time": "2025-09-18T17:00:11.912935Z",
     "start_time": "2025-09-18T17:00:11.749740Z"
    }
   },
   "cell_type": "code",
   "source": "df_filtered = df[df['example_very_unclear'] != 1]",
   "id": "80ea98e8f69e68ba",
   "outputs": [],
   "execution_count": 18
  },
  {
   "metadata": {},
   "cell_type": "markdown",
   "source": "### Take only needed cols",
   "id": "9cd2a302f98aac34"
  },
  {
   "metadata": {
    "ExecuteTime": {
     "end_time": "2025-09-18T17:40:17.755864Z",
     "start_time": "2025-09-18T17:40:17.738348Z"
    }
   },
   "cell_type": "code",
   "source": [
    "selected_ems = ['anger', 'confusion','disgust',\n",
    "                'excitement', 'fear', 'joy',\n",
    "                'love', 'sadness', 'surprise','neutral']"
   ],
   "id": "f210f9f6eec9b77a",
   "outputs": [],
   "execution_count": 47
  },
  {
   "metadata": {
    "ExecuteTime": {
     "end_time": "2025-09-18T17:40:18.071022Z",
     "start_time": "2025-09-18T17:40:18.064862Z"
    }
   },
   "cell_type": "code",
   "source": "",
   "id": "6299e9554c6b1a6",
   "outputs": [],
   "execution_count": null
  },
  {
   "metadata": {
    "ExecuteTime": {
     "end_time": "2025-09-18T17:40:18.541054Z",
     "start_time": "2025-09-18T17:40:18.419555Z"
    }
   },
   "cell_type": "code",
   "source": [
    "df_ems = df_filtered[['text', 'id'] + selected_ems]\n",
    "df_ems.head()"
   ],
   "id": "742a508d6b14d897",
   "outputs": [
    {
     "data": {
      "text/plain": [
       "                                                text       id  anger  \\\n",
       "0                                    That game hurt.  eew5j0j      0   \n",
       "2     You do right, if you don't care then fuck 'em!  ed2mah1      0   \n",
       "3                                 Man I love reddit.  eeibobj      0   \n",
       "4  [NAME] was nowhere near them, he was by the Fa...  eda6yn6      0   \n",
       "5  Right? Considering it’s such an important docu...  eespn2i      0   \n",
       "\n",
       "   confusion  disgust  excitement  fear  joy  love  sadness  surprise  neutral  \n",
       "0          0        0           0     0    0     0        1         0        0  \n",
       "2          0        0           0     0    0     0        0         0        1  \n",
       "3          0        0           0     0    0     1        0         0        0  \n",
       "4          0        0           0     0    0     0        0         0        1  \n",
       "5          0        0           0     0    0     0        0         0        0  "
      ],
      "text/html": [
       "<div>\n",
       "<style scoped>\n",
       "    .dataframe tbody tr th:only-of-type {\n",
       "        vertical-align: middle;\n",
       "    }\n",
       "\n",
       "    .dataframe tbody tr th {\n",
       "        vertical-align: top;\n",
       "    }\n",
       "\n",
       "    .dataframe thead th {\n",
       "        text-align: right;\n",
       "    }\n",
       "</style>\n",
       "<table border=\"1\" class=\"dataframe\">\n",
       "  <thead>\n",
       "    <tr style=\"text-align: right;\">\n",
       "      <th></th>\n",
       "      <th>text</th>\n",
       "      <th>id</th>\n",
       "      <th>anger</th>\n",
       "      <th>confusion</th>\n",
       "      <th>disgust</th>\n",
       "      <th>excitement</th>\n",
       "      <th>fear</th>\n",
       "      <th>joy</th>\n",
       "      <th>love</th>\n",
       "      <th>sadness</th>\n",
       "      <th>surprise</th>\n",
       "      <th>neutral</th>\n",
       "    </tr>\n",
       "  </thead>\n",
       "  <tbody>\n",
       "    <tr>\n",
       "      <th>0</th>\n",
       "      <td>That game hurt.</td>\n",
       "      <td>eew5j0j</td>\n",
       "      <td>0</td>\n",
       "      <td>0</td>\n",
       "      <td>0</td>\n",
       "      <td>0</td>\n",
       "      <td>0</td>\n",
       "      <td>0</td>\n",
       "      <td>0</td>\n",
       "      <td>1</td>\n",
       "      <td>0</td>\n",
       "      <td>0</td>\n",
       "    </tr>\n",
       "    <tr>\n",
       "      <th>2</th>\n",
       "      <td>You do right, if you don't care then fuck 'em!</td>\n",
       "      <td>ed2mah1</td>\n",
       "      <td>0</td>\n",
       "      <td>0</td>\n",
       "      <td>0</td>\n",
       "      <td>0</td>\n",
       "      <td>0</td>\n",
       "      <td>0</td>\n",
       "      <td>0</td>\n",
       "      <td>0</td>\n",
       "      <td>0</td>\n",
       "      <td>1</td>\n",
       "    </tr>\n",
       "    <tr>\n",
       "      <th>3</th>\n",
       "      <td>Man I love reddit.</td>\n",
       "      <td>eeibobj</td>\n",
       "      <td>0</td>\n",
       "      <td>0</td>\n",
       "      <td>0</td>\n",
       "      <td>0</td>\n",
       "      <td>0</td>\n",
       "      <td>0</td>\n",
       "      <td>1</td>\n",
       "      <td>0</td>\n",
       "      <td>0</td>\n",
       "      <td>0</td>\n",
       "    </tr>\n",
       "    <tr>\n",
       "      <th>4</th>\n",
       "      <td>[NAME] was nowhere near them, he was by the Fa...</td>\n",
       "      <td>eda6yn6</td>\n",
       "      <td>0</td>\n",
       "      <td>0</td>\n",
       "      <td>0</td>\n",
       "      <td>0</td>\n",
       "      <td>0</td>\n",
       "      <td>0</td>\n",
       "      <td>0</td>\n",
       "      <td>0</td>\n",
       "      <td>0</td>\n",
       "      <td>1</td>\n",
       "    </tr>\n",
       "    <tr>\n",
       "      <th>5</th>\n",
       "      <td>Right? Considering it’s such an important docu...</td>\n",
       "      <td>eespn2i</td>\n",
       "      <td>0</td>\n",
       "      <td>0</td>\n",
       "      <td>0</td>\n",
       "      <td>0</td>\n",
       "      <td>0</td>\n",
       "      <td>0</td>\n",
       "      <td>0</td>\n",
       "      <td>0</td>\n",
       "      <td>0</td>\n",
       "      <td>0</td>\n",
       "    </tr>\n",
       "  </tbody>\n",
       "</table>\n",
       "</div>"
      ]
     },
     "execution_count": 48,
     "metadata": {},
     "output_type": "execute_result"
    }
   ],
   "execution_count": 48
  },
  {
   "metadata": {
    "ExecuteTime": {
     "end_time": "2025-09-18T17:40:20.646853Z",
     "start_time": "2025-09-18T17:40:20.531087Z"
    }
   },
   "cell_type": "code",
   "source": [
    "df_ems = df_ems[df_ems[selected_ems].sum(axis=1) > 0]\n",
    "df_ems.head()"
   ],
   "id": "12b7796642cb5b64",
   "outputs": [
    {
     "data": {
      "text/plain": [
       "                                                 text       id  anger  \\\n",
       "0                                     That game hurt.  eew5j0j      0   \n",
       "2      You do right, if you don't care then fuck 'em!  ed2mah1      0   \n",
       "3                                  Man I love reddit.  eeibobj      0   \n",
       "4   [NAME] was nowhere near them, he was by the Fa...  eda6yn6      0   \n",
       "10  I have, and now that you mention it, I think t...  ed9w1hm      0   \n",
       "\n",
       "    confusion  disgust  excitement  fear  joy  love  sadness  surprise  \\\n",
       "0           0        0           0     0    0     0        1         0   \n",
       "2           0        0           0     0    0     0        0         0   \n",
       "3           0        0           0     0    0     1        0         0   \n",
       "4           0        0           0     0    0     0        0         0   \n",
       "10          0        0           0     0    0     0        0         0   \n",
       "\n",
       "    neutral  \n",
       "0         0  \n",
       "2         1  \n",
       "3         0  \n",
       "4         1  \n",
       "10        1  "
      ],
      "text/html": [
       "<div>\n",
       "<style scoped>\n",
       "    .dataframe tbody tr th:only-of-type {\n",
       "        vertical-align: middle;\n",
       "    }\n",
       "\n",
       "    .dataframe tbody tr th {\n",
       "        vertical-align: top;\n",
       "    }\n",
       "\n",
       "    .dataframe thead th {\n",
       "        text-align: right;\n",
       "    }\n",
       "</style>\n",
       "<table border=\"1\" class=\"dataframe\">\n",
       "  <thead>\n",
       "    <tr style=\"text-align: right;\">\n",
       "      <th></th>\n",
       "      <th>text</th>\n",
       "      <th>id</th>\n",
       "      <th>anger</th>\n",
       "      <th>confusion</th>\n",
       "      <th>disgust</th>\n",
       "      <th>excitement</th>\n",
       "      <th>fear</th>\n",
       "      <th>joy</th>\n",
       "      <th>love</th>\n",
       "      <th>sadness</th>\n",
       "      <th>surprise</th>\n",
       "      <th>neutral</th>\n",
       "    </tr>\n",
       "  </thead>\n",
       "  <tbody>\n",
       "    <tr>\n",
       "      <th>0</th>\n",
       "      <td>That game hurt.</td>\n",
       "      <td>eew5j0j</td>\n",
       "      <td>0</td>\n",
       "      <td>0</td>\n",
       "      <td>0</td>\n",
       "      <td>0</td>\n",
       "      <td>0</td>\n",
       "      <td>0</td>\n",
       "      <td>0</td>\n",
       "      <td>1</td>\n",
       "      <td>0</td>\n",
       "      <td>0</td>\n",
       "    </tr>\n",
       "    <tr>\n",
       "      <th>2</th>\n",
       "      <td>You do right, if you don't care then fuck 'em!</td>\n",
       "      <td>ed2mah1</td>\n",
       "      <td>0</td>\n",
       "      <td>0</td>\n",
       "      <td>0</td>\n",
       "      <td>0</td>\n",
       "      <td>0</td>\n",
       "      <td>0</td>\n",
       "      <td>0</td>\n",
       "      <td>0</td>\n",
       "      <td>0</td>\n",
       "      <td>1</td>\n",
       "    </tr>\n",
       "    <tr>\n",
       "      <th>3</th>\n",
       "      <td>Man I love reddit.</td>\n",
       "      <td>eeibobj</td>\n",
       "      <td>0</td>\n",
       "      <td>0</td>\n",
       "      <td>0</td>\n",
       "      <td>0</td>\n",
       "      <td>0</td>\n",
       "      <td>0</td>\n",
       "      <td>1</td>\n",
       "      <td>0</td>\n",
       "      <td>0</td>\n",
       "      <td>0</td>\n",
       "    </tr>\n",
       "    <tr>\n",
       "      <th>4</th>\n",
       "      <td>[NAME] was nowhere near them, he was by the Fa...</td>\n",
       "      <td>eda6yn6</td>\n",
       "      <td>0</td>\n",
       "      <td>0</td>\n",
       "      <td>0</td>\n",
       "      <td>0</td>\n",
       "      <td>0</td>\n",
       "      <td>0</td>\n",
       "      <td>0</td>\n",
       "      <td>0</td>\n",
       "      <td>0</td>\n",
       "      <td>1</td>\n",
       "    </tr>\n",
       "    <tr>\n",
       "      <th>10</th>\n",
       "      <td>I have, and now that you mention it, I think t...</td>\n",
       "      <td>ed9w1hm</td>\n",
       "      <td>0</td>\n",
       "      <td>0</td>\n",
       "      <td>0</td>\n",
       "      <td>0</td>\n",
       "      <td>0</td>\n",
       "      <td>0</td>\n",
       "      <td>0</td>\n",
       "      <td>0</td>\n",
       "      <td>0</td>\n",
       "      <td>1</td>\n",
       "    </tr>\n",
       "  </tbody>\n",
       "</table>\n",
       "</div>"
      ]
     },
     "execution_count": 49,
     "metadata": {},
     "output_type": "execute_result"
    }
   ],
   "execution_count": 49
  },
  {
   "metadata": {},
   "cell_type": "markdown",
   "source": "### Balance emotions",
   "id": "50428e922452c022"
  },
  {
   "metadata": {
    "ExecuteTime": {
     "end_time": "2025-09-18T17:40:23.262413Z",
     "start_time": "2025-09-18T17:40:23.242802Z"
    }
   },
   "cell_type": "code",
   "source": [
    "df_counts = df_ems[selected_ems].sum()\n",
    "min_count = df_counts.min()\n",
    "print(min_count)"
   ],
   "id": "bb72acd97604c0d6",
   "outputs": [
    {
     "name": "stdout",
     "output_type": "stream",
     "text": [
      "3197\n"
     ]
    }
   ],
   "execution_count": 50
  },
  {
   "metadata": {
    "ExecuteTime": {
     "end_time": "2025-09-18T17:40:25.036608Z",
     "start_time": "2025-09-18T17:40:24.725405Z"
    }
   },
   "cell_type": "code",
   "source": [
    "df_balans = pd.concat(\n",
    "    [df_ems[df_ems[emo] == 1].sample(min_count, random_state=42)\n",
    "     for emo in selected_ems]\n",
    ").drop_duplicates()\n",
    "df_balans.head()"
   ],
   "id": "f0bab64447f2c670",
   "outputs": [
    {
     "data": {
      "text/plain": [
       "                                                     text       id  anger  \\\n",
       "196200  Your link won't load and are you seriously cit...  edhoces      1   \n",
       "44388            Don't just distance yourself, BLOCK them  edksr1y      1   \n",
       "173462  I once overheard my grandpa telling my brother...  eeaos50      1   \n",
       "76641                           Shh don't spoil it for us  edv2a1w      1   \n",
       "205425                              Why are you so angry?  eehtgt8      1   \n",
       "\n",
       "        confusion  disgust  excitement  fear  joy  love  sadness  surprise  \\\n",
       "196200          0        0           0     0    0     0        0         0   \n",
       "44388           0        0           0     0    0     0        0         0   \n",
       "173462          0        0           0     0    0     0        0         0   \n",
       "76641           0        0           0     0    0     0        0         0   \n",
       "205425          0        0           0     0    0     0        0         0   \n",
       "\n",
       "        neutral  \n",
       "196200        0  \n",
       "44388         0  \n",
       "173462        0  \n",
       "76641         0  \n",
       "205425        0  "
      ],
      "text/html": [
       "<div>\n",
       "<style scoped>\n",
       "    .dataframe tbody tr th:only-of-type {\n",
       "        vertical-align: middle;\n",
       "    }\n",
       "\n",
       "    .dataframe tbody tr th {\n",
       "        vertical-align: top;\n",
       "    }\n",
       "\n",
       "    .dataframe thead th {\n",
       "        text-align: right;\n",
       "    }\n",
       "</style>\n",
       "<table border=\"1\" class=\"dataframe\">\n",
       "  <thead>\n",
       "    <tr style=\"text-align: right;\">\n",
       "      <th></th>\n",
       "      <th>text</th>\n",
       "      <th>id</th>\n",
       "      <th>anger</th>\n",
       "      <th>confusion</th>\n",
       "      <th>disgust</th>\n",
       "      <th>excitement</th>\n",
       "      <th>fear</th>\n",
       "      <th>joy</th>\n",
       "      <th>love</th>\n",
       "      <th>sadness</th>\n",
       "      <th>surprise</th>\n",
       "      <th>neutral</th>\n",
       "    </tr>\n",
       "  </thead>\n",
       "  <tbody>\n",
       "    <tr>\n",
       "      <th>196200</th>\n",
       "      <td>Your link won't load and are you seriously cit...</td>\n",
       "      <td>edhoces</td>\n",
       "      <td>1</td>\n",
       "      <td>0</td>\n",
       "      <td>0</td>\n",
       "      <td>0</td>\n",
       "      <td>0</td>\n",
       "      <td>0</td>\n",
       "      <td>0</td>\n",
       "      <td>0</td>\n",
       "      <td>0</td>\n",
       "      <td>0</td>\n",
       "    </tr>\n",
       "    <tr>\n",
       "      <th>44388</th>\n",
       "      <td>Don't just distance yourself, BLOCK them</td>\n",
       "      <td>edksr1y</td>\n",
       "      <td>1</td>\n",
       "      <td>0</td>\n",
       "      <td>0</td>\n",
       "      <td>0</td>\n",
       "      <td>0</td>\n",
       "      <td>0</td>\n",
       "      <td>0</td>\n",
       "      <td>0</td>\n",
       "      <td>0</td>\n",
       "      <td>0</td>\n",
       "    </tr>\n",
       "    <tr>\n",
       "      <th>173462</th>\n",
       "      <td>I once overheard my grandpa telling my brother...</td>\n",
       "      <td>eeaos50</td>\n",
       "      <td>1</td>\n",
       "      <td>0</td>\n",
       "      <td>0</td>\n",
       "      <td>0</td>\n",
       "      <td>0</td>\n",
       "      <td>0</td>\n",
       "      <td>0</td>\n",
       "      <td>0</td>\n",
       "      <td>0</td>\n",
       "      <td>0</td>\n",
       "    </tr>\n",
       "    <tr>\n",
       "      <th>76641</th>\n",
       "      <td>Shh don't spoil it for us</td>\n",
       "      <td>edv2a1w</td>\n",
       "      <td>1</td>\n",
       "      <td>0</td>\n",
       "      <td>0</td>\n",
       "      <td>0</td>\n",
       "      <td>0</td>\n",
       "      <td>0</td>\n",
       "      <td>0</td>\n",
       "      <td>0</td>\n",
       "      <td>0</td>\n",
       "      <td>0</td>\n",
       "    </tr>\n",
       "    <tr>\n",
       "      <th>205425</th>\n",
       "      <td>Why are you so angry?</td>\n",
       "      <td>eehtgt8</td>\n",
       "      <td>1</td>\n",
       "      <td>0</td>\n",
       "      <td>0</td>\n",
       "      <td>0</td>\n",
       "      <td>0</td>\n",
       "      <td>0</td>\n",
       "      <td>0</td>\n",
       "      <td>0</td>\n",
       "      <td>0</td>\n",
       "      <td>0</td>\n",
       "    </tr>\n",
       "  </tbody>\n",
       "</table>\n",
       "</div>"
      ]
     },
     "execution_count": 51,
     "metadata": {},
     "output_type": "execute_result"
    }
   ],
   "execution_count": 51
  },
  {
   "metadata": {},
   "cell_type": "markdown",
   "source": "### Divide to train-val-split",
   "id": "d07c05708747d226"
  },
  {
   "metadata": {
    "ExecuteTime": {
     "end_time": "2025-09-18T17:42:30.546865Z",
     "start_time": "2025-09-18T17:42:30.510100Z"
    }
   },
   "cell_type": "code",
   "source": "df_balans.size",
   "id": "34138bf65a7453fe",
   "outputs": [
    {
     "data": {
      "text/plain": [
       "317472"
      ]
     },
     "execution_count": 52,
     "metadata": {},
     "output_type": "execute_result"
    }
   ],
   "execution_count": 52
  },
  {
   "metadata": {
    "ExecuteTime": {
     "end_time": "2025-09-18T17:56:36.830198Z",
     "start_time": "2025-09-18T17:56:36.177704Z"
    }
   },
   "cell_type": "code",
   "source": [
    "X = df_balans[['text']]\n",
    "y = df_balans[selected_ems]\n",
    "\n",
    "# train + temp (80/20)\n",
    "X_train, X_temp, y_train, y_temp = train_test_split(\n",
    "    X, y, test_size=0.2, random_state=42, shuffle=True\n",
    ")\n",
    "\n",
    "# temp -> val/test (50/50)\n",
    "mskf = MultilabelStratifiedKFold(n_splits=2, shuffle=True, random_state=42)\n",
    "\n",
    "val_idx, test_idx = next(mskf.split(X_temp, y_temp))\n",
    "\n",
    "X_val = X_temp.iloc[val_idx]\n",
    "y_val = y_temp.iloc[val_idx]\n",
    "X_test = X_temp.iloc[test_idx]\n",
    "y_test = y_temp.iloc[test_idx]"
   ],
   "id": "38189c871a949dae",
   "outputs": [],
   "execution_count": 58
  },
  {
   "metadata": {
    "ExecuteTime": {
     "end_time": "2025-09-18T17:56:37.634014Z",
     "start_time": "2025-09-18T17:56:37.621583Z"
    }
   },
   "cell_type": "code",
   "source": [
    "print(\"Train:\", len(X_train))\n",
    "print(\"Validation:\", len(X_val))\n",
    "print(\"Test:\", len(X_test))"
   ],
   "id": "a9aa310d4a93b988",
   "outputs": [
    {
     "name": "stdout",
     "output_type": "stream",
     "text": [
      "Train: 21164\n",
      "Validation: 2649\n",
      "Test: 2643\n"
     ]
    }
   ],
   "execution_count": 59
  },
  {
   "metadata": {
    "ExecuteTime": {
     "end_time": "2025-09-18T17:58:07.908057Z",
     "start_time": "2025-09-18T17:58:05.997063Z"
    }
   },
   "cell_type": "code",
   "source": [
    "X_train.assign(**y_train).to_csv(os.path.join(PROCESSED_DIR, \"train.tsv\"), sep=\"\\t\", index=False)\n",
    "X_val.assign(**y_val).to_csv(os.path.join(PROCESSED_DIR, \"val.tsv\"), sep=\"\\t\", index=False)\n",
    "X_test.assign(**y_test).to_csv(os.path.join(PROCESSED_DIR, \"test.tsv\"), sep=\"\\t\", index=False)"
   ],
   "id": "39d0bc00ed860e5c",
   "outputs": [],
   "execution_count": 61
  },
  {
   "metadata": {},
   "cell_type": "code",
   "outputs": [],
   "execution_count": null,
   "source": "",
   "id": "d488f01468363989"
  }
 ],
 "metadata": {
  "kernelspec": {
   "display_name": "Python 3",
   "language": "python",
   "name": "python3"
  },
  "language_info": {
   "codemirror_mode": {
    "name": "ipython",
    "version": 2
   },
   "file_extension": ".py",
   "mimetype": "text/x-python",
   "name": "python",
   "nbconvert_exporter": "python",
   "pygments_lexer": "ipython2",
   "version": "2.7.6"
  }
 },
 "nbformat": 4,
 "nbformat_minor": 5
}
